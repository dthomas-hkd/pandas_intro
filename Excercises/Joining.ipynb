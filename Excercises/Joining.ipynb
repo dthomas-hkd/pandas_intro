{
 "cells": [
  {
   "cell_type": "code",
   "execution_count": null,
   "id": "82be9431",
   "metadata": {},
   "outputs": [],
   "source": [
    "import pandas as pd, numpy as np"
   ]
  },
  {
   "attachments": {},
   "cell_type": "markdown",
   "id": "0b10fe56",
   "metadata": {},
   "source": [
    "# Assignment 1: Joining data\n",
    "\n",
    "Return a table that contains the transcations and the Stores details."
   ]
  },
  {
   "cell_type": "code",
   "execution_count": null,
   "id": "cb37c0d7",
   "metadata": {},
   "outputs": [],
   "source": [
    "# A common practice is to create a path variable to pass to read_csv\n",
    "trasactions_path = \"../Data/transactions.csv\"\n",
    "stores_path = \"../Data/stores.csv\"\n",
    "\n"
   ]
  },
  {
   "cell_type": "code",
   "execution_count": null,
   "id": "8f4be5f4",
   "metadata": {},
   "outputs": [],
   "source": []
  },
  {
   "cell_type": "code",
   "execution_count": null,
   "id": "47c9611a",
   "metadata": {},
   "outputs": [],
   "source": []
  },
  {
   "cell_type": "code",
   "execution_count": null,
   "id": "8274bed3",
   "metadata": {},
   "outputs": [],
   "source": []
  },
  {
   "attachments": {},
   "cell_type": "markdown",
   "id": "68959027",
   "metadata": {},
   "source": [
    "# Assignment 2: Analying the the transactions per State and City\n",
    "\n",
    "\n",
    "* Report the sum of “transactions” grouped by city and state\n",
    "* Obtain the mean, max, min and sum of transactions per city"
   ]
  },
  {
   "cell_type": "code",
   "execution_count": null,
   "id": "ffe682d5",
   "metadata": {},
   "outputs": [],
   "source": []
  },
  {
   "cell_type": "code",
   "execution_count": null,
   "id": "77186d80",
   "metadata": {},
   "outputs": [],
   "source": []
  }
 ],
 "metadata": {
  "kernelspec": {
   "display_name": "Python 3 (ipykernel)",
   "language": "python",
   "name": "python3"
  },
  "language_info": {
   "codemirror_mode": {
    "name": "ipython",
    "version": 3
   },
   "file_extension": ".py",
   "mimetype": "text/x-python",
   "name": "python",
   "nbconvert_exporter": "python",
   "pygments_lexer": "ipython3",
   "version": "3.9.7"
  }
 },
 "nbformat": 4,
 "nbformat_minor": 5
}
